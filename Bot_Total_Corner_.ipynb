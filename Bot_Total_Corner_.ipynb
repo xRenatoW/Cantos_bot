{
 "cells": [
  {
   "cell_type": "code",
   "execution_count": 42,
   "metadata": {
    "id": "2zhKjnv5Fjgl"
   },
   "outputs": [],
   "source": [
    "import requests\n",
    "import pandas as pd\n",
    "import numpy as np\n",
    "import re\n",
    "from time import sleep\n",
    "import time"
   ]
  },
  {
   "cell_type": "code",
   "execution_count": 43,
   "metadata": {
    "id": "cQcIvVv4IWaR"
   },
   "outputs": [],
   "source": [
    "data = requests.get('https://www.totalcorner.com/match/today')"
   ]
  },
  {
   "cell_type": "code",
   "execution_count": 44,
   "metadata": {
    "id": "4YK1P1xoIuK5"
   },
   "outputs": [],
   "source": [
    "df = pd.read_html(data.text)[0]"
   ]
  },
  {
   "cell_type": "code",
   "execution_count": 45,
   "metadata": {
    "id": "i3O1NuI9Kjl2"
   },
   "outputs": [],
   "source": [
    "df.dropna(axis=1,how='all',inplace=True)"
   ]
  },
  {
   "cell_type": "code",
   "execution_count": 46,
   "metadata": {
    "id": "qlYAIW2lLSnK"
   },
   "outputs": [],
   "source": [
    "df.dropna(axis=0,how='any',inplace=True)"
   ]
  },
  {
   "cell_type": "code",
   "execution_count": 47,
   "metadata": {
    "id": "xYBjReAvMPu-"
   },
   "outputs": [],
   "source": [
    "df.drop(columns=['Handicap','Goal Line','Analysis','Time'],inplace=True)"
   ]
  },
  {
   "cell_type": "code",
   "execution_count": 48,
   "metadata": {
    "id": "3gBv60m9MyAY"
   },
   "outputs": [],
   "source": [
    "df.rename(columns={'Unnamed: 3':'Cronometro'},inplace=True)"
   ]
  },
  {
   "cell_type": "code",
   "execution_count": 49,
   "metadata": {
    "id": "u-vGAVkoNzce"
   },
   "outputs": [],
   "source": [
    "df['Cronometro'] = df['Cronometro'].apply(lambda a: 45 if a == 'Half' else a).astype('int64')"
   ]
  },
  {
   "cell_type": "code",
   "execution_count": 50,
   "metadata": {
    "id": "2m_DkJ_aQdi3"
   },
   "outputs": [],
   "source": [
    "df['Corner'] = df['Corner'].apply(lambda a: re.findall(r'\\d{1,} - \\d{1,}',a))"
   ]
  },
  {
   "cell_type": "code",
   "execution_count": 51,
   "metadata": {
    "id": "QXESkiQvVVFe"
   },
   "outputs": [],
   "source": [
    "df['Corner'] = df['Corner'].apply(lambda a: list(map(int,a[0].split(' - '))))"
   ]
  },
  {
   "cell_type": "code",
   "execution_count": 52,
   "metadata": {
    "id": "6_UjtOqRYxuW"
   },
   "outputs": [],
   "source": [
    "df['Dangerous Attack'] = df['Dangerous Attack'].apply(lambda a: re.findall(r'\\d{1,} - \\d{1,}',a))"
   ]
  },
  {
   "cell_type": "code",
   "execution_count": 53,
   "metadata": {
    "id": "xC0_t_KdZBn0"
   },
   "outputs": [],
   "source": [
    "df['Shots'] = df['Shots'].apply(lambda a: re.findall(r'\\d{1,} - \\d{1,}',a))"
   ]
  },
  {
   "cell_type": "code",
   "execution_count": 54,
   "metadata": {
    "id": "_wy6O8sHZpdf"
   },
   "outputs": [],
   "source": [
    "df['Dangerous Attack'] = df['Dangerous Attack'].apply(lambda a: a if a != [] else np.nan)\n",
    "df['Corner'] = df['Corner'].apply(lambda a: a if a != [] else np.nan)\n",
    "df['Shots'] = df['Shots'].apply(lambda a: a if a != [] else np.nan)"
   ]
  },
  {
   "cell_type": "code",
   "execution_count": 55,
   "metadata": {
    "id": "qw8IxeBZaegt"
   },
   "outputs": [],
   "source": [
    "df.dropna(axis=0, how = 'any',inplace=True)"
   ]
  },
  {
   "cell_type": "code",
   "execution_count": 56,
   "metadata": {
    "id": "VotOflapa8Wy"
   },
   "outputs": [],
   "source": [
    "df['Shots'] = df['Shots'].apply(lambda a: list(map(int,a[0].split(' - '))))\n",
    "df['Dangerous Attack'] = df['Dangerous Attack'].apply(lambda a: list(map(int,a[0].split(' - '))))"
   ]
  },
  {
   "cell_type": "code",
   "execution_count": 57,
   "metadata": {
    "colab": {
     "base_uri": "https://localhost:8080/",
     "height": 206
    },
    "id": "mE_2GHwLjFPN",
    "outputId": "6a68834b-0e86-4d0b-8a6f-042e138feb0c"
   },
   "outputs": [
    {
     "data": {
      "text/html": [
       "<div>\n",
       "<style scoped>\n",
       "    .dataframe tbody tr th:only-of-type {\n",
       "        vertical-align: middle;\n",
       "    }\n",
       "\n",
       "    .dataframe tbody tr th {\n",
       "        vertical-align: top;\n",
       "    }\n",
       "\n",
       "    .dataframe thead th {\n",
       "        text-align: right;\n",
       "    }\n",
       "</style>\n",
       "<table border=\"1\" class=\"dataframe\">\n",
       "  <thead>\n",
       "    <tr style=\"text-align: right;\">\n",
       "      <th></th>\n",
       "      <th>League</th>\n",
       "      <th>Cronometro</th>\n",
       "      <th>Home</th>\n",
       "      <th>Score</th>\n",
       "      <th>Away</th>\n",
       "      <th>Corner</th>\n",
       "      <th>Dangerous Attack</th>\n",
       "      <th>Shots</th>\n",
       "    </tr>\n",
       "  </thead>\n",
       "  <tbody>\n",
       "    <tr>\n",
       "      <th>2</th>\n",
       "      <td>Ecuador Campeonato Nacional</td>\n",
       "      <td>78</td>\n",
       "      <td>2 Barcelona Guayaquil</td>\n",
       "      <td>3 - 1</td>\n",
       "      <td>Cumbaya FC 2 1</td>\n",
       "      <td>[2, 1]</td>\n",
       "      <td>[47, 16]</td>\n",
       "      <td>[17, 3]</td>\n",
       "    </tr>\n",
       "    <tr>\n",
       "      <th>3</th>\n",
       "      <td>Argentina Nacional B</td>\n",
       "      <td>75</td>\n",
       "      <td>2 Estudiantes Rio Cuarto</td>\n",
       "      <td>1 - 1</td>\n",
       "      <td>Gimnasia Mendoza</td>\n",
       "      <td>[2, 4]</td>\n",
       "      <td>[49, 47]</td>\n",
       "      <td>[5, 5]</td>\n",
       "    </tr>\n",
       "    <tr>\n",
       "      <th>4</th>\n",
       "      <td>Bolivia Apertura</td>\n",
       "      <td>77</td>\n",
       "      <td>1 Real Tomayapo</td>\n",
       "      <td>2 - 1</td>\n",
       "      <td>Club Aurora 3</td>\n",
       "      <td>[5, 7]</td>\n",
       "      <td>[28, 39]</td>\n",
       "      <td>[6, 15]</td>\n",
       "    </tr>\n",
       "    <tr>\n",
       "      <th>5</th>\n",
       "      <td>Mauritania Cup</td>\n",
       "      <td>80</td>\n",
       "      <td>2 ASC Gendrim</td>\n",
       "      <td>0 - 0</td>\n",
       "      <td>Kaedi FC 1 1</td>\n",
       "      <td>[3, 2]</td>\n",
       "      <td>[58, 61]</td>\n",
       "      <td>[9, 10]</td>\n",
       "    </tr>\n",
       "    <tr>\n",
       "      <th>6</th>\n",
       "      <td>Argentina Nacional B</td>\n",
       "      <td>72</td>\n",
       "      <td>2 Club Atletico Temperley</td>\n",
       "      <td>1 - 0</td>\n",
       "      <td>Defensores Unidos 5 1</td>\n",
       "      <td>[3, 3]</td>\n",
       "      <td>[74, 43]</td>\n",
       "      <td>[7, 4]</td>\n",
       "    </tr>\n",
       "  </tbody>\n",
       "</table>\n",
       "</div>"
      ],
      "text/plain": [
       "                        League  Cronometro                       Home  Score  \\\n",
       "2  Ecuador Campeonato Nacional          78      2 Barcelona Guayaquil  3 - 1   \n",
       "3         Argentina Nacional B          75   2 Estudiantes Rio Cuarto  1 - 1   \n",
       "4             Bolivia Apertura          77            1 Real Tomayapo  2 - 1   \n",
       "5               Mauritania Cup          80              2 ASC Gendrim  0 - 0   \n",
       "6         Argentina Nacional B          72  2 Club Atletico Temperley  1 - 0   \n",
       "\n",
       "                    Away  Corner Dangerous Attack    Shots  \n",
       "2         Cumbaya FC 2 1  [2, 1]         [47, 16]  [17, 3]  \n",
       "3       Gimnasia Mendoza  [2, 4]         [49, 47]   [5, 5]  \n",
       "4          Club Aurora 3  [5, 7]         [28, 39]  [6, 15]  \n",
       "5           Kaedi FC 1 1  [3, 2]         [58, 61]  [9, 10]  \n",
       "6  Defensores Unidos 5 1  [3, 3]         [74, 43]   [7, 4]  "
      ]
     },
     "execution_count": 57,
     "metadata": {},
     "output_type": "execute_result"
    }
   ],
   "source": [
    "df.head()"
   ]
  },
  {
   "cell_type": "code",
   "execution_count": 58,
   "metadata": {
    "id": "htxGieRAW40g"
   },
   "outputs": [],
   "source": [
    "def enviar_mensagem(msg):\n",
    "  bot_token = '6252849643:AAESWkCUSB12DIkAKbbgKaSRLSz2TWpFzvI'\n",
    "  chat_id = -1001803280902\n",
    "  url = f'https://api.telegram.org/bot{bot_token}/sendMessage?chat_id={chat_id}&text={msg}'\n",
    "  requests.post(url)"
   ]
  },
  {
   "cell_type": "code",
   "execution_count": 59,
   "metadata": {
    "id": "vN5zTEBk3V-y"
   },
   "outputs": [],
   "source": [
    "mensagens_enviadas = []"
   ]
  },
  {
   "cell_type": "code",
   "execution_count": 60,
   "metadata": {
    "id": "Z6_1q5GZB_n1"
   },
   "outputs": [],
   "source": [
    "\n",
    "for i in range(len(df)):\n",
    "    j = df.iloc[i]\n",
    "    tempo = j['Cronometro']\n",
    "    \n",
    "    appm_home = round(j['Dangerous Attack'][0]/tempo,1)\n",
    "    appm_away = round(j['Dangerous Attack'][1]/tempo,1)\n",
    "    \n",
    "    cg_home = j['Corner'][0]+ j ['Shots'][0]\n",
    "    cg_away = j['Corner'][0]+ j ['Shots'][1]\n",
    "    \n",
    "    condicao_home = appm_home >=1 and cg_home >= 15\n",
    "    condicao_away = appm_away >=1 and cg_away >= 15\n",
    "\n",
    "    t1 = 0 < tempo < 45\n",
    "    t2 = 45 < tempo < 90\n",
    "    \n",
    "    if (condicao_home or condicao_away) and (t1 or t2):\n",
    "      if t1:\n",
    "        t = 't1'\n",
    "      else:\n",
    "          t = 't2'\n",
    "      home = re.sub(r'^\\d{1} ','',j['Home'])\n",
    "      away = re.sub(r'\\d{1}$','',j['Away'])\n",
    "      if f'{home} x {away}_{t}' not in mensagens_enviadas:\n",
    "        msg = (f'''\n",
    "\n",
    "  Liga:{j['League']}\n",
    "  jogo: {home} x {away}\n",
    "  Placar: {j['Score']}\n",
    "  Appm: {appm_home} - {appm_away}\n",
    "  CG: {cg_home} - {cg_away}\n",
    "  ''')\n",
    "      enviar_mensagem(msg)\n",
    "      mensagens_enviadas.append(f'{home} x {away}_{t}')\n",
    "      sleep(2)"
   ]
  },
  {
   "cell_type": "code",
   "execution_count": null,
   "metadata": {
    "id": "Kg639qABB_3b"
   },
   "outputs": [],
   "source": []
  },
  {
   "cell_type": "code",
   "execution_count": null,
   "metadata": {
    "id": "YxLYMInwB_7j"
   },
   "outputs": [],
   "source": []
  },
  {
   "cell_type": "code",
   "execution_count": null,
   "metadata": {
    "id": "vBwXYlDsCABM"
   },
   "outputs": [],
   "source": []
  },
  {
   "cell_type": "code",
   "execution_count": null,
   "metadata": {
    "id": "7fuHyqLtCAFw"
   },
   "outputs": [],
   "source": []
  }
 ],
 "metadata": {
  "colab": {
   "provenance": []
  },
  "kernelspec": {
   "display_name": "Python 3 (ipykernel)",
   "language": "python",
   "name": "python3"
  },
  "language_info": {
   "codemirror_mode": {
    "name": "ipython",
    "version": 3
   },
   "file_extension": ".py",
   "mimetype": "text/x-python",
   "name": "python",
   "nbconvert_exporter": "python",
   "pygments_lexer": "ipython3",
   "version": "3.9.13"
  }
 },
 "nbformat": 4,
 "nbformat_minor": 1
}
